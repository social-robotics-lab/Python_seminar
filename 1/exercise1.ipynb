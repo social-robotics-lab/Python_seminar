{
 "cells": [
  {
   "cell_type": "markdown",
   "metadata": {},
   "source": [
    "# **練習問題1**\n",
    "\n"
   ]
  },
  {
   "cell_type": "markdown",
   "metadata": {},
   "source": [
    "### **はじめに**\n",
    "\n",
    "以下はPython勉強会用の練習問題です。難易度は少し高めですが、学習した内容を応用して解くことができます。頑張って取り組んでみてください！"
   ]
  },
  {
   "cell_type": "markdown",
   "metadata": {},
   "source": [
    "### **問題 1: エラー修正**"
   ]
  },
  {
   "cell_type": "markdown",
   "metadata": {},
   "source": [
    "プログラミングにおいて、コードを書く時間よりエラー修正 (デバッグ) の時間の方が長くなる場合が多々あります。  \n",
    "この練習問題でエラーは怖いものではなく、どこが間違っているのか教えてくれるありがたい存在であることを感じてもらえると嬉しいです。\n",
    "\n",
    "#### **例題**\n",
    "\n",
    "エラーが発生するコードが与えられるので、実行して得られたエラーをコピペし、コードを修正してください。\n",
    "\n",
    "例えば、次のような問題が与えられたとします。\n",
    "\n",
    "- 期待する出力: `Hello, world!`\n",
    "\n",
    "    ```python\n",
    "    # エラー: 「」\n",
    "    \n",
    "    # ↓ 以下のコードを修正してください ↓\n",
    "    print(\"Hello, world!)\n",
    "    ```\n",
    "\n",
    "このコードをそのまま実行すると、以下のようなエラーが得られます。\n",
    "\n",
    "```plaintext\n",
    "Cell In[1], line 1\n",
    "    print(\"Hello, world!)\n",
    "          ^\n",
    "SyntaxError: unterminated string literal (detected at line 1)\n",
    "```\n",
    "\n",
    "この `SyntaxError: unterminated string literal (detected at line 1)` というエラー文を、下のコードブロック1行目のようにコピペしてください。\n",
    "\n",
    "このエラーは、エラー文が教えてくれている通り、文字列が (ダブル) クォーテーションで閉じられていないために発生しています。  \n",
    "今回は以下のようなコードに修正することで期待する出力を得られます。\n",
    "\n",
    "```python\n",
    "print(\"Hello, world!\")\n",
    "```\n",
    "\n",
    "下のコードブロック4行目を参考に、エラーが発生するコードを、修正したコードに書き換えてください。"
   ]
  },
  {
   "cell_type": "code",
   "execution_count": 1,
   "metadata": {},
   "outputs": [
    {
     "name": "stdout",
     "output_type": "stream",
     "text": [
      "Hello, world!\n"
     ]
    }
   ],
   "source": [
    "# エラー: 「SyntaxError: unterminated string literal (detected at line 1)」\n",
    "\n",
    "# ↓ 修正したコード ↓\n",
    "print(\"Hello, world!\")"
   ]
  },
  {
   "cell_type": "markdown",
   "metadata": {},
   "source": [
    "#### **問題 1-1**\n",
    "\n",
    "期待する出力: `100`"
   ]
  },
  {
   "cell_type": "code",
   "execution_count": 2,
   "metadata": {},
   "outputs": [
    {
     "name": "stdout",
     "output_type": "stream",
     "text": [
      "100\n"
     ]
    }
   ],
   "source": [
    "# エラー: 「NameError: name 'myNumber' is not defined」\n",
    "\n",
    "# ↓ 固定 ↓\n",
    "my_number = 100\n",
    "\n",
    "# ↓ 以下のコードを修正してください ↓\n",
    "print(my_number)"
   ]
  },
  {
   "cell_type": "markdown",
   "metadata": {},
   "source": [
    "#### **問題 1-2**\n",
    "\n",
    "期待する出力: `5`"
   ]
  },
  {
   "cell_type": "code",
   "execution_count": 3,
   "metadata": {},
   "outputs": [
    {
     "name": "stdout",
     "output_type": "stream",
     "text": [
      "5\n"
     ]
    }
   ],
   "source": [
    "# エラー: 「TypeError: unsupported operand type(s) for +: 'int' and 'str'」\n",
    "\n",
    "# ↓ 固定 ↓\n",
    "a = 2\n",
    "b = \"3\"\n",
    "\n",
    "# ↓ 以下のコードを修正してください ↓\n",
    "c = a + int(b)\n",
    "\n",
    "# ↓ 固定 ↓\n",
    "print(c)"
   ]
  },
  {
   "cell_type": "markdown",
   "metadata": {},
   "source": [
    "#### **問題 1-3**\n",
    "\n",
    "期待する出力: `n is 100`"
   ]
  },
  {
   "cell_type": "code",
   "execution_count": 4,
   "metadata": {},
   "outputs": [
    {
     "name": "stdout",
     "output_type": "stream",
     "text": [
      "n is 100\n"
     ]
    }
   ],
   "source": [
    "# エラー: 「SyntaxError: invalid syntax」\n",
    "\n",
    "# ↓ 固定 ↓\n",
    "n = 100\n",
    "\n",
    "# ↓ 以下のコードを修正してください ↓\n",
    "if n == 100:\n",
    "    print(\"n is 100\")\n",
    "else:\n",
    "    print(\"n is not 100\")"
   ]
  },
  {
   "cell_type": "markdown",
   "metadata": {},
   "source": [
    "#### **問題 1-4**\n",
    "\n",
    "期待する出力: `[100, 200]`"
   ]
  },
  {
   "cell_type": "code",
   "execution_count": 5,
   "metadata": {},
   "outputs": [
    {
     "name": "stdout",
     "output_type": "stream",
     "text": [
      "[100, 200]\n"
     ]
    }
   ],
   "source": [
    "# エラー: 「AttributeError: 'int' object has no attribute 'append'」\n",
    "\n",
    "# ↓ 以下のコードを修正してください ↓\n",
    "l = [100]\n",
    "\n",
    "# ↓ 固定 ↓\n",
    "l.append(200)\n",
    "print(l)"
   ]
  },
  {
   "cell_type": "markdown",
   "metadata": {},
   "source": [
    "#### **問題 1-5**\n",
    "\n",
    "期待する出力: `3`"
   ]
  },
  {
   "cell_type": "code",
   "execution_count": 6,
   "metadata": {},
   "outputs": [
    {
     "name": "stdout",
     "output_type": "stream",
     "text": [
      "3\n"
     ]
    }
   ],
   "source": [
    "# エラー: 「」\n",
    "\n",
    "# ↓ 固定 ↓\n",
    "l = [1, 2, 3]\n",
    "\n",
    "# ↓ 以下のコードを修正してください ↓\n",
    "index = 2\n",
    "\n",
    "# ↓ 固定 ↓\n",
    "print(l[index])"
   ]
  },
  {
   "cell_type": "markdown",
   "metadata": {},
   "source": [
    "#### **問題 1-6**\n",
    "\n",
    "期待する出力: `2`"
   ]
  },
  {
   "cell_type": "code",
   "execution_count": 7,
   "metadata": {},
   "outputs": [
    {
     "name": "stdout",
     "output_type": "stream",
     "text": [
      "2\n"
     ]
    }
   ],
   "source": [
    "# エラー: 「KeyError: 'x'」\n",
    "\n",
    "# ↓ 固定 ↓\n",
    "d = {\"a\": 1, \"b\": 2, \"c\": 3}\n",
    "\n",
    "# ↓ 以下のコードを修正してください ↓\n",
    "key = \"b\"\n",
    "\n",
    "# ↓ 固定 ↓\n",
    "print(d[key])"
   ]
  },
  {
   "cell_type": "markdown",
   "metadata": {},
   "source": [
    "#### **問題 1-7**\n",
    "\n",
    "期待する出力:\n",
    "\n",
    "```plaintext\n",
    "0\n",
    "1\n",
    "2\n",
    "```"
   ]
  },
  {
   "cell_type": "code",
   "execution_count": 8,
   "metadata": {},
   "outputs": [
    {
     "name": "stdout",
     "output_type": "stream",
     "text": [
      "0\n",
      "1\n",
      "2\n"
     ]
    }
   ],
   "source": [
    "# エラー: 「SyntaxError: expected ':'」\n",
    "\n",
    "# ↓ 以下のコードを修正してください ↓\n",
    "for i in range(3):\n",
    "    print(i)"
   ]
  },
  {
   "cell_type": "markdown",
   "metadata": {},
   "source": [
    "### **問題 2: 誰がケーキを食べたの？**"
   ]
  },
  {
   "cell_type": "markdown",
   "metadata": {},
   "source": [
    "飯尾君のケーキが誰かに食べられてしまいました。ケーキを食べた犯人の候補として、人1、人2、人3の三人が挙げられています。\n",
    "\n",
    "犯人の目撃者はりんごさんとすぬけくんの二人がいます。  \n",
    "りんごさんは人Aが犯人でないことを覚えており、すぬけくんは人Bが犯人でないことを覚えています。\n",
    "\n",
    "二人の記憶から犯人を一人に特定できるかどうか判定し、特定できるならばその人の番号を出力してください。\n",
    "\n",
    "- 制約: $1 \\leq A, B \\leq 3$ (入力は全て整数)\n",
    "- 入力: `A B` の形式\n",
    "- 出力: 二人の記憶から犯人を一人に特定できるならばその人の番号を出力し、特定できないならば `-1` を出力せよ。\n",
    "\n",
    "**例**\n",
    "\n",
    "- 入力: `1 2`\n",
    "- 出力: `3`\n",
    "\n",
    "**補足**\n",
    "\n",
    "A, Bの入力方法\n",
    "\n",
    "```python\n",
    "A, B = input().split()\n",
    "```"
   ]
  },
  {
   "cell_type": "code",
   "execution_count": 9,
   "metadata": {},
   "outputs": [
    {
     "name": "stdout",
     "output_type": "stream",
     "text": [
      "3\n"
     ]
    }
   ],
   "source": [
    "# ここにコードを入力してください\n",
    "a, b = input().split()\n",
    "ans = 0\n",
    "\n",
    "if a == b:\n",
    "    ans = -1\n",
    "else:\n",
    "    if a == \"1\":\n",
    "        if b == \"2\":\n",
    "            ans = 3\n",
    "        else:\n",
    "            ans = 2\n",
    "    elif a == \"2\":\n",
    "        if b == \"1\":\n",
    "            ans = 3\n",
    "        else:\n",
    "            ans = 1\n",
    "    else:\n",
    "        if b == \"1\":\n",
    "            ans = 2\n",
    "        else:\n",
    "            ans = 1\n",
    "\n",
    "print(ans)"
   ]
  },
  {
   "cell_type": "markdown",
   "metadata": {},
   "source": [
    "### **問題 3: 特殊な出力形式の生成**"
   ]
  },
  {
   "cell_type": "markdown",
   "metadata": {},
   "source": [
    "入力として受け取った文字列を以下の形式で出力するプログラムを書いてください:\n",
    "\n",
    "- 文字列の各文字を逆順に並べ、文字の間に `-` を挿入してください。\n",
    "\n",
    "**例:**\n",
    "\n",
    "- 入力: `Python`\n",
    "- 出力: `n-o-h-t-y-P`"
   ]
  },
  {
   "cell_type": "code",
   "execution_count": 10,
   "metadata": {},
   "outputs": [
    {
     "name": "stdout",
     "output_type": "stream",
     "text": [
      "n-o-h-t-y-P\n"
     ]
    }
   ],
   "source": [
    "# ここにコードを入力してください\n",
    "s = input()\n",
    "ans = \"\"\n",
    "\n",
    "for i in range(len(s)):\n",
    "    if i == 0:\n",
    "        ans += s[i]\n",
    "    else:\n",
    "        ans = f\"{s[i]}-\" + ans\n",
    "\n",
    "print(ans)"
   ]
  },
  {
   "cell_type": "markdown",
   "metadata": {},
   "source": [
    "### **問題 4: フィボナッチ数列の生成**"
   ]
  },
  {
   "cell_type": "markdown",
   "metadata": {},
   "source": [
    "ユーザーから整数 $N$ を入力として受け取り、フィボナッチ数列の最初の $N$ 項をリストとして出力するプログラムを書いてください。\n",
    "\n",
    "**フィボナッチ数列の定義:**\n",
    "\n",
    "- 最初の2項はそれぞれ `0`, `1`\n",
    "- 3項目以降は直前の2項を足した値\n",
    "\n",
    "**例:**\n",
    "\n",
    "- 入力: $N = \\ $ `7`\n",
    "- 出力: `[0, 1, 1, 2, 3, 5, 8]`\n"
   ]
  },
  {
   "cell_type": "code",
   "execution_count": 11,
   "metadata": {},
   "outputs": [
    {
     "name": "stdout",
     "output_type": "stream",
     "text": [
      "[0, 1, 1, 2, 3, 5, 8]\n"
     ]
    }
   ],
   "source": [
    "# ここにコードを入力してください\n",
    "n = int(input())\n",
    "ans = [0, 1]\n",
    "\n",
    "while True:\n",
    "    if len(ans) >= 7:\n",
    "        break\n",
    "    ans.append(ans[-1] + ans[-2])\n",
    "\n",
    "print(ans)"
   ]
  },
  {
   "cell_type": "markdown",
   "metadata": {},
   "source": [
    "### **問題 5: 辞書の操作**"
   ]
  },
  {
   "cell_type": "markdown",
   "metadata": {},
   "source": [
    "以下のような辞書を作成し、ユーザーからの入力で値を更新するプログラムを書いてください。\n",
    "\n",
    "```python\n",
    "fruit_prices = {\"apple\": 120, \"banana\": 100, \"cherry\": 300}\n",
    "```\n",
    "\n",
    "**操作内容:**\n",
    "\n",
    "1. ユーザーにフルーツの名前を入力させる。\n",
    "2. 入力されたフルーツが辞書に存在すれば、新しい値を入力して値を更新する。\n",
    "3. 存在しない場合は、「フルーツが見つかりません」と表示する。\n",
    "\n",
    "**例:**\n",
    "\n",
    "- 入力:\n",
    "    - 1回目の入力: `banana`\n",
    "    - 2回目の入力: `200`\n",
    "\n",
    "- 出力: `{'apple': 120, 'banana': 200, 'cherry': 300}`"
   ]
  },
  {
   "cell_type": "code",
   "execution_count": 12,
   "metadata": {},
   "outputs": [
    {
     "name": "stdout",
     "output_type": "stream",
     "text": [
      "{'apple': 120, 'banana': 200, 'cherry': 300}\n"
     ]
    }
   ],
   "source": [
    "# ここにコードを入力してください\n",
    "fruit_prices = {\"apple\": 120, \"banana\": 100, \"cherry\": 300}\n",
    "fruit_name = input()\n",
    "\n",
    "if fruit_name in fruit_prices.keys():\n",
    "    fruit_value = int(input())\n",
    "    fruit_prices[fruit_name] = fruit_value\n",
    "    print(fruit_prices)\n",
    "else:\n",
    "    print(\"フルーツが見つかりません\")"
   ]
  },
  {
   "cell_type": "markdown",
   "metadata": {},
   "source": [
    "### **問題 6: 文字列の統計**"
   ]
  },
  {
   "cell_type": "markdown",
   "metadata": {},
   "source": [
    "ユーザーが入力した文字列について以下を計算して表示するプログラムを書いてください。\n",
    "\n",
    "1. 小文字の数\n",
    "2. 大文字の数\n",
    "3. 数字の数\n",
    "4. その他の文字の数\n",
    "\n",
    "**例:**\n",
    "\n",
    "- 入力: `Hello123!`\n",
    "- 出力:\n",
    "\n",
    "    ```plaintext\n",
    "    小文字: 4\n",
    "    大文字: 1\n",
    "    数字: 3\n",
    "    その他: 1\n",
    "    ```\n",
    "\n",
    "**補足:**\n",
    "\n",
    "- `.islower()`: 小文字を判定\n",
    "- `.isdigit()`: 数字を判定\n",
    "- `.isalpha()`: 英字を判定 (大文字・小文字問わず)"
   ]
  },
  {
   "cell_type": "code",
   "execution_count": 13,
   "metadata": {},
   "outputs": [
    {
     "name": "stdout",
     "output_type": "stream",
     "text": [
      "小文字: 4\n",
      "大文字: 1\n",
      "数字: 3\n",
      "その他: 1\n"
     ]
    }
   ],
   "source": [
    "# ここにコードを入力してください\n",
    "\n",
    "s = input()\n",
    "lowers = 0\n",
    "uppers = 0\n",
    "digits = 0\n",
    "others = 0\n",
    "\n",
    "for c in s:\n",
    "    if c.islower():\n",
    "        lowers += 1\n",
    "    elif c.isupper():\n",
    "        uppers += 1\n",
    "    elif c.isdigit():\n",
    "        digits += 1\n",
    "    else:\n",
    "        others += 1\n",
    "\n",
    "print(f\"小文字: {lowers}\")\n",
    "print(f\"大文字: {uppers}\")\n",
    "print(f\"数字: {digits}\")\n",
    "print(f\"その他: {others}\")"
   ]
  },
  {
   "cell_type": "markdown",
   "metadata": {},
   "source": [
    "### **問題 7: 1122文字列**"
   ]
  },
  {
   "cell_type": "markdown",
   "metadata": {},
   "source": [
    "文字列 $T$ が以下の3つの条件をすべてみたすとき、かつそのときに限り、$T$ を「1122文字列」と呼びます。\n",
    "\n",
    "- $|T|$ は偶数である。ここで、$|T|$ は $T$ の長さを表す。\n",
    "- $1 \\leq i \\leq \\frac{|T|}{2}$ をみたす整数 $i$ について、$T$ の $(2i−1)$ 文字目と $2i$ 文字目は等しい。\n",
    "- 各文字は $T$ にちょうど0個または2個現れる。すなわち、$T$ に含まれる文字は $T$ にちょうど2回ずつ登場する。\n",
    "\n",
    "英小文字のみからなる文字列 $S$ が与えられるので、$S$ が 1122文字列であるならば `Yes` を、そうでないならば `No` を出力してください。\n",
    "\n",
    "**例**\n",
    "\n",
    "- 入力: `aabbcc`\n",
    "- 出力: `Yes`"
   ]
  },
  {
   "cell_type": "code",
   "execution_count": 14,
   "metadata": {},
   "outputs": [
    {
     "name": "stdout",
     "output_type": "stream",
     "text": [
      "Yes\n"
     ]
    }
   ],
   "source": [
    "# ここにコードを入力してください\n",
    "s = input()\n",
    "ans = \"Yes\"\n",
    "count = []\n",
    "\n",
    "if len(s) % 2 == 0:\n",
    "    for i in range(len(s) // 2):\n",
    "        if s[2*i + 1] == s[2*i]:\n",
    "            if s[2*i] in count:\n",
    "                ans = \"No\"\n",
    "                break\n",
    "            else:\n",
    "                count.append(s[2*i])\n",
    "            pass\n",
    "        else:\n",
    "            ans = \"No\"\n",
    "            break\n",
    "else:\n",
    "    ans = \"No\"\n",
    "\n",
    "print(ans)"
   ]
  },
  {
   "cell_type": "markdown",
   "metadata": {},
   "source": [
    "### **問題 8: コンマ**"
   ]
  },
  {
   "cell_type": "markdown",
   "metadata": {},
   "source": [
    "飯尾君は整数を書くとき、下から3桁ごとにコンマで区切って書きます。  \n",
    "例えば `1234567` であれば `1,234,567`、`777` であれば `777` と書きます。\n",
    "\n",
    "飯尾君が $1$ 以上 $N$ 以下の整数を1度ずつ書くとき、コンマは合計で何回書かれますか？\n",
    "\n",
    "**制約**\n",
    "\n",
    "- $1 \\leq N \\leq 10^{15}$\n",
    "- $N$ は整数\n",
    "\n",
    "**入力**\n",
    "\n",
    "$N$\n",
    "\n",
    "**出力**\n",
    "\n",
    "コンマが書かれる回数の合計を出力してください。\n",
    "\n",
    "**例**\n",
    "\n",
    "- 入力: `1010`\n",
    "- 出力: `11`\n",
    "\n",
    "$999$ 以下の数を書くときにはコンマは書かれません。  \n",
    "$1000$ 以上 $1010$ 以下の数を書くときには、それぞれ $1$ 回ずつコンマが書かれます。  \n",
    "よって、コンマは全部で **$11$ 回** 書かれます。"
   ]
  },
  {
   "cell_type": "code",
   "execution_count": 15,
   "metadata": {},
   "outputs": [
    {
     "name": "stdout",
     "output_type": "stream",
     "text": [
      "11\n"
     ]
    }
   ],
   "source": [
    "# ここにコードを入力してください\n",
    "n = int(input())\n",
    "ans = 0\n",
    "current_n = 999\n",
    "loop_n = (len(str(n)) - 1) // 3\n",
    "\n",
    "for i in range(1, loop_n + 1):\n",
    "    compare_n = current_n + 999 * 1000 ** i\n",
    "    if n < compare_n:\n",
    "        ans += (n - current_n) * i\n",
    "    else:\n",
    "        ans += (compare_n - current_n) * i\n",
    "    current_n = compare_n\n",
    "\n",
    "print(ans)"
   ]
  },
  {
   "cell_type": "markdown",
   "metadata": {},
   "source": [
    "### **問題 9: 平等なキャンディの配布**"
   ]
  },
  {
   "cell_type": "markdown",
   "metadata": {},
   "source": [
    "飯尾王国には $N$ 人の国民がいます。  \n",
    "全ての国民には国民番号が割り振られており、 $i$ 人目の国民の国民番号は $a_{i}$ です。  \n",
    "ここで、$a_{i}$ は互いに異なります。\n",
    "\n",
    "飯尾君は $K$ 個のお菓子を持っています。  \n",
    "飯尾君は次のルールに従って、持っているお菓子が無くなるまで国民にお菓子を配ることにしました。\n",
    "\n",
    "- 持っているお菓子が $N$ 個以上ある場合、全員に $1$ 個ずつお菓子を配る。\n",
    "- そうでない場合、その時点で飯尾くんが持っているお菓子の個数を $K^{′}$ として、国民番号が小さい方から $K^{′}$ 人に $1$ 個ずつ配る。  \n",
    "  より厳密には、$a_{i}$ の値が小さい方から $K^{′}$ 人を選び、選んだ人に $1$ 個ずつお菓子を配る。\n",
    "\n",
    "全てのお菓子を配り終えたとき、$i$ 人目の国民は何個のお菓子を持っていますか？\n",
    "\n",
    "**制約**\n",
    "\n",
    "- $1 \\leq N \\leq 2 \\times 10^{5}$\n",
    "- $1 \\leq K \\leq 10^{18}$\n",
    "- $1 \\leq a_{i} \\leq 10^{9}$\n",
    "- $a_{i}$ は互いに異なる。\n",
    "- 入力は全て整数である。\n",
    "\n",
    "**入力**\n",
    "\n",
    "以下の標準入力より得られる:\n",
    "\n",
    "- 1回目の入力: `N K`\n",
    "- 2回目の入力: `a1​ a2​ ... aN`\n",
    "\n",
    "**出力**\n",
    "\n",
    "$N$ 行出力せよ。\n",
    "$i$ 行目には $i$ 人目の国民がもらったお菓子の個数を出力せよ。\n",
    "\n",
    "**例**\n",
    "\n",
    "- 入力:\n",
    "    - 1回目の入力: `2 7`\n",
    "    - 2回目の入力: `1 8`\n",
    "- 出力:\n",
    "\n",
    "    ```plaintext\n",
    "    4\n",
    "    3\n",
    "    ```\n",
    "\n",
    "**補足**\n",
    "\n",
    "入力方法\n",
    "\n",
    "```python\n",
    "n, k = map(int, input().split())\n",
    "a = tuple(map(int, input().split()))\n",
    "```"
   ]
  },
  {
   "cell_type": "code",
   "execution_count": 16,
   "metadata": {},
   "outputs": [
    {
     "name": "stdout",
     "output_type": "stream",
     "text": [
      "4\n",
      "3\n"
     ]
    }
   ],
   "source": [
    "# ここにコードを入力してください\n",
    "n, k = map(int, input().split())\n",
    "a = tuple(map(int, input().split()))\n",
    "\n",
    "a_sort = sorted(list(a))\n",
    "ans = {}\n",
    "surplus = k % n\n",
    "\n",
    "for i in range(n):\n",
    "    ans[str(a_sort[i])] = k // n\n",
    "    if surplus > 0:\n",
    "        ans[str(a_sort[i])] += 1\n",
    "        surplus -= 1\n",
    "\n",
    "for item in a:\n",
    "    print(ans[str(item)])"
   ]
  },
  {
   "cell_type": "markdown",
   "metadata": {},
   "source": [
    "### **問題 10: T-shirts**"
   ]
  },
  {
   "cell_type": "markdown",
   "metadata": {},
   "source": [
    "飯尾君の $N$ 日間の予定が $0, 1, 2$ のみからなる長さ $N$ の文字列 $S$ で与えられます。  \n",
    "具体的には、$1 \\leq i \\leq N$ をみたす整数 $i$ について、\n",
    "\n",
    "- $S$ の $i$ 文字目が $0$ のとき、$i$ 日目に何の予定も入っていません。  \n",
    "- $S$ の $i$ 文字目が $1$ のとき、$i$ 日目に飯尾君は食事に行く予定があります。  \n",
    "- $S$ の $i$ 文字目が $2$ のとき、$i$ 日目に飯尾君は競技プログラミングのイベントに行く予定が入っています。\n",
    "\n",
    "飯尾君は無地のTシャツを $M$ 枚持っており、1日目の直前の時点ですべて洗濯済みの状態となっています。  \n",
    "これに加えて、次の条件をみたすように行動できるように、飯尾君はロゴ入りのTシャツを何枚か購入する事にしました。\n",
    "\n",
    "- 食事に行く日には、無地のTシャツ1枚またはロゴ入りのTシャツ1枚を着用する。\n",
    "- 競技プログラミングのイベントに行く日にはロゴ入りのTシャツ1枚を着用する。\n",
    "- 何の予定もない日にはTシャツを着用しない。加えて、その時点で着用済みのTシャツを全て洗濯する。 洗濯したTシャツは翌日から着用できる。\n",
    "- 一度着用したTシャツは次に洗濯するまで着用できない。\n",
    "\n",
    "$N$ 日間のうち予定が入っている日すべてについて、条件をみたすTシャツを着用できるようにするために、飯尾君は最低何枚のTシャツを購入する必要があるか求めてください。  \n",
    "新しくTシャツを購入する必要がないならば `0` を出力してください。  \n",
    "ただし、購入したTシャツも1日目の直前の時点ですべて洗濯済みの状態で存在するものとします。\n",
    "\n",
    "**制約**\n",
    "\n",
    "- $1 \\leq M \\leq N \\leq 1000$\n",
    "- $S$ は $0, 1, 2$ のみからなる長さ $N$ の文字列\n",
    "- $N, M$ は整数\n",
    "\n",
    "**入力**\n",
    "\n",
    "以下の標準入力より得られる:\n",
    "\n",
    "- 1回目の入力: `N M`\n",
    "- 2回目の入力: `S`\n",
    "\n",
    "**出力**\n",
    "\n",
    "問題文の条件をみたすように行動するために 飯尾君が購入する必要のあるTシャツの枚数の最小値を出力してください。  \n",
    "ただし、購入する必要がない場合は `0` を出力してください。\n",
    "\n",
    "**例**\n",
    "\n",
    "- 入力:\n",
    "    - 1回目の入力: `6 1`\n",
    "    - 2回目の入力: `112022`\n",
    "- 出力: `2`\n",
    "\n",
    "**補足**\n",
    "\n",
    "$N, M$ の入力方法\n",
    "\n",
    "```python\n",
    "n, m = map(int, input().split())\n",
    "```"
   ]
  },
  {
   "cell_type": "code",
   "execution_count": 17,
   "metadata": {},
   "outputs": [
    {
     "name": "stdout",
     "output_type": "stream",
     "text": [
      "2\n"
     ]
    }
   ],
   "source": [
    "# ここにコードを入力してください\n",
    "n, m = map(int, input().split())\n",
    "s = input()\n",
    "m_now = m\n",
    "logo = 0\n",
    "logo_now = logo\n",
    "\n",
    "for c in s:\n",
    "    if c == \"1\":\n",
    "        if m_now > 0:\n",
    "            m_now -= 1\n",
    "        elif logo_now > 0:\n",
    "            logo_now -= 1\n",
    "        else:\n",
    "            logo += 1\n",
    "    elif c == \"2\":\n",
    "        if logo_now > 0:\n",
    "            logo_now -= 1\n",
    "        else:\n",
    "            logo += 1\n",
    "    elif c == \"0\":\n",
    "        m_now = m\n",
    "        logo_now = logo\n",
    "\n",
    "print(logo)"
   ]
  },
  {
   "cell_type": "markdown",
   "metadata": {},
   "source": [
    "### **問題 11: Σ**"
   ]
  },
  {
   "cell_type": "markdown",
   "metadata": {},
   "source": [
    "長さ $N$ の正整数列 $A = (A_{1}, A_{2}, \\dots, A_{N}​)$ および正整数 $K$ が与えられます。  \n",
    "$1$ 以上 $K$ 以下の整数のうち、$A$ の中に一度も現れないものの総和を求めてください。\n",
    "\n",
    "**制約**\n",
    "\n",
    "- $1 \\leq N \\leq 2 \\times 10^{5}$\n",
    "- $1 \\leq K \\leq 2 \\times 10^{9}$\n",
    "- $1 \\leq A_{i} \\leq 2 \\times 10^{9}$\n",
    "- 入力は全て整数\n",
    "\n",
    "**入力:**\n",
    "\n",
    "以下の標準入力より得られる:\n",
    "\n",
    "- 1回目の入力: `N K`\n",
    "- 2回目の入力: `A1​ A2​ ... AN​`\n",
    "\n",
    "**出力:**\n",
    "\n",
    "答えを出力してください。\n",
    "\n",
    "**例:**\n",
    "\n",
    "- 入力:\n",
    "    - 1回目の入力: `10 158260522`\n",
    "    - 2回目の入力: `877914575 24979445 623690081 262703497 24979445 1822804784 1430302156 1161735902 923078537 1189330739`\n",
    "- 出力: `12523196466007058`\n",
    "    ```\n",
    "\n",
    "**補足:**\n",
    "\n",
    "入力方法\n",
    "\n",
    "```python\n",
    "n, k = map(int, input().split())\n",
    "a = set(map(int, input().split()))\n",
    "```"
   ]
  },
  {
   "cell_type": "code",
   "execution_count": 18,
   "metadata": {},
   "outputs": [
    {
     "name": "stdout",
     "output_type": "stream",
     "text": [
      "12523196466007058\n"
     ]
    }
   ],
   "source": [
    "# ここにコードを入力してください\n",
    "n, k = map(int, input().split())\n",
    "a = set(map(int, input().split()))\n",
    "ans = (k + 1) * k // 2\n",
    "\n",
    "for item in a:\n",
    "    if item <= k:\n",
    "        ans -= item\n",
    "\n",
    "print(ans)"
   ]
  }
 ],
 "metadata": {
  "kernelspec": {
   "display_name": "3.12.2",
   "language": "python",
   "name": "python3"
  },
  "language_info": {
   "codemirror_mode": {
    "name": "ipython",
    "version": 3
   },
   "file_extension": ".py",
   "mimetype": "text/x-python",
   "name": "python",
   "nbconvert_exporter": "python",
   "pygments_lexer": "ipython3",
   "version": "3.12.2"
  }
 },
 "nbformat": 4,
 "nbformat_minor": 2
}
