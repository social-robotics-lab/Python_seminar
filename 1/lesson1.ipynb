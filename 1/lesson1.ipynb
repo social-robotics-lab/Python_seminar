{
 "cells": [
  {
   "cell_type": "markdown",
   "metadata": {},
   "source": [
    "## 第1回: Python入門"
   ]
  },
  {
   "cell_type": "markdown",
   "metadata": {},
   "source": [
    "### **はじめに**"
   ]
  },
  {
   "cell_type": "markdown",
   "metadata": {},
   "source": [
    "勉強会にご参加いただきありがとうございます！  \n",
    "この勉強会ではみんなでPythonをどんどん触って慣れていこう！というマインドでします。  \n",
    "なので、皆さんにはこれでもか！というくらいPythonに触れてもらいます。  \n",
    "私の経験談で恐縮ですが、読める！書ける！の経験を積めば積むほど、プログラミングに対する抵抗がなくなり楽しくなる気がします。  \n",
    "その第一歩のお手伝いができればと思います。\n",
    "\n",
    "この勉強会を開催するにあたり、ルールを3つ設けたいと思います。\n",
    "1. プログラミングに抵抗があってもまずはとりあえず**写経する**  \n",
    "   1行ずつ書いていくとちょっと処理がわかるようになる気がします。\n",
    "2. とにかくできるまで**試し続ける**  \n",
    "   基本的にはエラーが出たらその行を見にいって、修正しての繰り返しです。書けば書くほど書けるようになります。\n",
    "3. 詰まったりわからなくなったときは**すぐに質問する**  \n",
    "   もちろん調べてみたり、ChatGPTとかに聞いてもらってもいいですが、**わからないまま放置するのだけはやめてください**。  \n",
    "   私含め、先輩たちは質問大募集してますので、遠慮せずにどんどん聞いてください。\n",
    "\n",
    "第1回では、Pythonの初歩中の初歩の内容をします。\n"
   ]
  },
  {
   "cell_type": "markdown",
   "metadata": {},
   "source": [
    "### **入力と出力 （★☆☆）**"
   ]
  },
  {
   "cell_type": "markdown",
   "metadata": {},
   "source": [
    "初めてプログラミングを触る人にとったら、そもそも入力と出力とはなんぞやと思いますよね。\n",
    "\n",
    "* **入力**: 計算機（プログラム）に情報（データ）を入れること\n",
    "* **出力**: 計算機（プログラム）から情報（データ）を出すこと\n",
    "\n",
    "ここからはPythonでの入出力を見ていきます。"
   ]
  },
  {
   "cell_type": "markdown",
   "metadata": {},
   "source": [
    "#### **出力**"
   ]
  },
  {
   "cell_type": "markdown",
   "metadata": {},
   "source": [
    "Pythonでは以下のように出力します。\n",
    " \n",
    "```python\n",
    "print(\"Hello, world!\")\n",
    "```\n",
    "\n",
    "次のようにすると、プログラム内の値を出力できます。\n",
    "ちなみに下でいう左側の「s」は**変数**といいます。\n",
    "\n",
    "```python\n",
    "s = \"Hello, world!\"\n",
    "print(s)\n",
    "```\n",
    "\n",
    "次のようにすると、プログラム内の値を埋め込んで出力できます。\n",
    "\n",
    "```python\n",
    "birth_month = 11\n",
    "print(f\"私の誕生月は{bitrh_month}です。\")\n",
    "```\n",
    "\n",
    "> 値と文字列を同時に出力する方法は他にもありますが、皆さんは`f\"\"`で慣れましょう  \n",
    "> （可読性を上げるためです。）\n",
    "\n",
    "では、書いてみましょう！"
   ]
  },
  {
   "cell_type": "code",
   "execution_count": null,
   "metadata": {},
   "outputs": [],
   "source": [
    "# Hello, world!と出力してみましょう"
   ]
  },
  {
   "cell_type": "code",
   "execution_count": null,
   "metadata": {},
   "outputs": [],
   "source": [
    "# Hello, world!を変数に入れて出力してみましょう"
   ]
  },
  {
   "cell_type": "code",
   "execution_count": null,
   "metadata": {},
   "outputs": [],
   "source": [
    "# birth_monthに自分の誕生月を入れて「私の誕生月は○月です」と出力してみましょう"
   ]
  },
  {
   "cell_type": "markdown",
   "metadata": {},
   "source": [
    "#### **入力**"
   ]
  },
  {
   "cell_type": "markdown",
   "metadata": {},
   "source": [
    "Pythonで入力は以下のようにします。\n",
    "\n",
    "```python\n",
    "input()\n",
    "```\n",
    "\n",
    "次のようにすると、入力値を変数に入れることができます。（超重要）  \n",
    "これをしないと、入力値を使ってこねこねできないです。\n",
    "\n",
    "```python\n",
    "s = input()\n",
    "```\n",
    "\n",
    "次のようにすると、入力する場所でインストラクトができます。\n",
    "\n",
    "```python\n",
    "s = input(\"好きな数字を入力してください: \")\n",
    "```\n",
    "\n",
    "> 飯尾研では`input()`を使って、タイミングの制御をしたりします。  \n",
    "> その際には`input()`で入れた値を使わない場合が多いです。\n",
    "\n",
    "ではでは、触ってみましょう！"
   ]
  },
  {
   "cell_type": "code",
   "execution_count": null,
   "metadata": {},
   "outputs": [],
   "source": [
    "# 変数に入力値を入れてその入力値を出力しましょう"
   ]
  },
  {
   "cell_type": "code",
   "execution_count": null,
   "metadata": {},
   "outputs": [],
   "source": [
    "# input()の括弧の中に任意のインストラクトを入れて、その入力値を出力しましょう"
   ]
  },
  {
   "cell_type": "markdown",
   "metadata": {},
   "source": [
    "### **型 （★☆☆）**"
   ]
  },
  {
   "cell_type": "markdown",
   "metadata": {},
   "source": [
    "「型」と聞くと頭が痛くなる人がいますが、型は初歩中の初歩なのでここでマスターしていきましょう。\n",
    "* **型**: 変数に入れるデータの種類  \n",
    "  * **`str`**: 文字列\n",
    "  * **`int`**: 整数\n",
    "  * **`float`**: 浮動小数点\n",
    "  * **`bool`**: ブール（真偽値）\n",
    "  * `list`: リスト（配列）\n",
    "  * `dict`: ディクショナリ（辞書）\n",
    "  * `tuple`: タプル（複数要素）\n",
    "\n",
    "Pythonは**代入した値によって型が決まります**。\n",
    "\n",
    "以下のようにして確認します\n",
    "```python\n",
    "type(変数)\n",
    "```\n",
    "\n",
    "また、型を変換したい場合は、変数あるいは定数に対して型でくくってあげます。12.0を例に挙げてみましょう。\n",
    "```python\n",
    "int(\"12\")\n",
    "# str → int\n",
    "```"
   ]
  },
  {
   "cell_type": "code",
   "execution_count": null,
   "metadata": {},
   "outputs": [],
   "source": [
    "# input()をした際の入力値の型を確認してみましょう"
   ]
  },
  {
   "cell_type": "code",
   "execution_count": null,
   "metadata": {},
   "outputs": [],
   "source": [
    "# 数値を入力させて、その入力値に5を足したものを出力してみましょう"
   ]
  },
  {
   "cell_type": "markdown",
   "metadata": {},
   "source": [
    "### **四則演算 （★☆☆）**"
   ]
  },
  {
   "cell_type": "markdown",
   "metadata": {},
   "source": [
    "めちゃめちゃ簡単です。\n",
    "* `+`: 和\n",
    "* `-`: 差\n",
    "* `*`: 積\n",
    "* `/`: 商\n",
    "* `//`: 商（小数切り捨て）\n",
    "* `%`: 余\n",
    "* `**`: 乗"
   ]
  },
  {
   "cell_type": "code",
   "execution_count": null,
   "metadata": {},
   "outputs": [],
   "source": [
    "# 52947と39175の加減乗除を出力してみましょう"
   ]
  },
  {
   "cell_type": "code",
   "execution_count": null,
   "metadata": {},
   "outputs": [],
   "source": [
    "# 入力した数値を37で割った余を出力してみましょう"
   ]
  },
  {
   "cell_type": "code",
   "execution_count": null,
   "metadata": {},
   "outputs": [],
   "source": [
    "# 入力した数値分、2をかけてみましょう（2の数値乗をしてみましょう）"
   ]
  },
  {
   "cell_type": "markdown",
   "metadata": {},
   "source": [
    "### **条件分岐 （★☆☆）**"
   ]
  },
  {
   "cell_type": "markdown",
   "metadata": {},
   "source": [
    "ロボットの開発をすると、変数によって処理を変えたい時がいっぱい出てきます。  \n",
    "そういう時に条件分岐が活躍します。\n",
    "\n",
    "* **条件分岐**: 特定の条件が満たされているかどうかを判断し、その結果に応じて異なる処理を実行する仕組み\n",
    "\n",
    "次のようにして書きます。\n",
    "\n",
    "```python\n",
    "if 条件:\n",
    "    処理\n",
    "elif 条件:\n",
    "    処理\n",
    "else:\n",
    "    処理\n",
    "```\n",
    "\n",
    "詳しくみていきましょう。\n",
    "1. `if`や`elif`の後には条件を書きます。ここでの条件は`True`(真)か`False`(偽)を問うものしか入れられません。  \n",
    "    **どんなものが真偽を問うものなの？**  \n",
    "   * `True` `False`\n",
    "   * `a == b`\n",
    "   * `a < b` `a > b`\n",
    "2. 条件を書いた後は必ず`:`を打ちます。これが条件記述の終了のサインです。\n",
    "3. `:`を打った後、`enter`キーを打つと**インデント**が入って改行されます。  \n",
    "   **インデントとは？**\n",
    "   * 文字列の初めをずらすこと\n",
    "   * Pythonでは半角スペース4つ分\n",
    "   * 【鉄則】**インデントは`tab`キーで管理**\n",
    "    * インデントをひとつ下げる時は`tab`キー\n",
    "    * インデントをひとつ戻す時は`shift`+`tab`キー\n",
    "4. 処理を書きます。\n",
    "5. 必要であれば`elif`や`else`を入れます。\n",
    "   * `elif`: 前の処理の条件を除いた集合から特定の条件に対して処理をする\n",
    "     * `else if`の略で、`else`の中のインデックスに新たな`if`を作るのと同義\n",
    "   * `else`: 前の処理の条件を除いたすべての集合に対して処理をする\n",
    "\n",
    "> 条件分岐を書くとき、`if`は必ず必要ですが、`elif`や`else`は必ずしも必要ではありません。"
   ]
  },
  {
   "cell_type": "code",
   "execution_count": null,
   "metadata": {},
   "outputs": [],
   "source": [
    "# 変数aを3として、aが5より小さければ、「Clear」を出力する"
   ]
  },
  {
   "cell_type": "code",
   "execution_count": null,
   "metadata": {},
   "outputs": [],
   "source": [
    "# 数値を入力で受け取り、その数値が10より大きければ、「○（数値）は10より大きいです」と出力し、\n",
    "# 10以下の場合は「○（数値）は10以下です」と出力する"
   ]
  },
  {
   "cell_type": "markdown",
   "metadata": {},
   "source": [
    "### **リストとタプル （★☆☆）**"
   ]
  },
  {
   "cell_type": "markdown",
   "metadata": {},
   "source": [
    "そろそろプログラミングアレルギーが疼き出す人が出てくるのではないでしょうか？  \n",
    "今からはリストとタプルを見ていきたいなと思います。  \n",
    "リストは聞いたことがあるけど、タプルって何！？ってなっていますよね。（たぶん）  \n",
    "リストもタプルも**複数の値をひとまとめにできる変数型**です。  \n",
    "じゃあ何が違うって？  \n",
    "リストは**書き換え可能**で、タプルは**書き換え不可能**、それだけです！  \n",
    "\n",
    "リストとタプルは以下のように書けます。\n",
    "```python\n",
    "L = [1, 2, 3]\n",
    "T = (1, 2, 3)\n",
    "```\n",
    "\n",
    "リストやタプルの特定要素への参照はこのように行います。（**スライス**と言います）\n",
    "```python\n",
    "A = [1, 3, 5, 7]\n",
    "A[0] #1\n",
    "```\n",
    "`変数名[インデックス]`で参照できます。  \n",
    "インデックスとはリストやタプルの「番号」です。  \n",
    "Pythonや他の言語では番号の初めは`0`で、一番最後の数字は`要素数-1`です。  \n",
    "また、一番最後の数字は`-1`でも表されます。  \n",
    "じゃあ、複数選択したい時はどうするでしょうか？  \n",
    "```python\n",
    "A = [1, 3, 5, 7]\n",
    "A[1:4] #3, 5, 7\n",
    "```\n",
    "`変数名[スタート:エンド]`で参照できます。  \n",
    "ここで、あれっと思う人いますよね？ 　\n",
    "スタートは1だから、要素番号の1から始まるけど、4って要素番号を持つやついないじゃん！  \n",
    "ここがポイント！！  \n",
    "Pythonの配列をスライスするときは**スタート以上エンド未満**です！（なぜと言われてもわかりませんので覚えてください）  \n",
    "> 私は友達以上恋人未満で覚えました（謎）\n"
   ]
  },
  {
   "cell_type": "code",
   "execution_count": 1,
   "metadata": {},
   "outputs": [],
   "source": [
    "# リストとタプルを書いてみて、型を確認しましょう"
   ]
  },
  {
   "cell_type": "code",
   "execution_count": 2,
   "metadata": {},
   "outputs": [
    {
     "name": "stdout",
     "output_type": "stream",
     "text": [
      "[3, 5, 7]\n"
     ]
    }
   ],
   "source": [
    "# 適当な配列（要素 5個以上）を定義して、その配列の2番目から5番目までを出力しましょう\n"
   ]
  },
  {
   "cell_type": "markdown",
   "metadata": {},
   "source": [
    "#### リスト"
   ]
  },
  {
   "cell_type": "markdown",
   "metadata": {},
   "source": [
    "ここからはリストについてみていきます。  \n",
    "リストは書き換えが可能なので、操作が色々できます。  \n",
    "覚えるべき操作を3つまとめたので覚えちゃいましょう。  \n",
    "1. a\n",
    "2. a\n",
    "3. \n"
   ]
  },
  {
   "cell_type": "code",
   "execution_count": null,
   "metadata": {},
   "outputs": [],
   "source": []
  }
 ],
 "metadata": {
  "kernelspec": {
   "display_name": "3.12.2",
   "language": "python",
   "name": "python3"
  },
  "language_info": {
   "codemirror_mode": {
    "name": "ipython",
    "version": 3
   },
   "file_extension": ".py",
   "mimetype": "text/x-python",
   "name": "python",
   "nbconvert_exporter": "python",
   "pygments_lexer": "ipython3",
   "version": "3.12.2"
  }
 },
 "nbformat": 4,
 "nbformat_minor": 2
}
