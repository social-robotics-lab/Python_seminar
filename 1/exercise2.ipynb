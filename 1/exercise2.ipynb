{
 "cells": [
  {
   "cell_type": "markdown",
   "metadata": {},
   "source": [
    "# **Python 勉強会: 練習問題1-2**\n",
    "\n"
   ]
  },
  {
   "cell_type": "markdown",
   "metadata": {},
   "source": [
    "## **はじめに**\n",
    "以下はPython勉強会用の練習問題です。難易度は少し高めですが、学習した内容を応用して解くことができます。頑張って取り組んでみてください！"
   ]
  },
  {
   "cell_type": "markdown",
   "metadata": {},
   "source": [
    "### **問題 1: 特殊な出力形式の生成**"
   ]
  },
  {
   "cell_type": "markdown",
   "metadata": {},
   "source": [
    "- 入力として受け取った文字列を以下の形式で出力するプログラムを書いてください：\n",
    "  - 文字列の各文字を逆順に並べ、文字の間に `-` を挿入してください。\n",
    "\n",
    "**例:**\n",
    "- 入力: `Python`\n",
    "- 出力: `n-o-h-t-y-P`\n"
   ]
  },
  {
   "cell_type": "code",
   "execution_count": null,
   "metadata": {},
   "outputs": [],
   "source": [
    "#ここにコードを入力してください\n",
    "\n",
    "\n"
   ]
  },
  {
   "cell_type": "markdown",
   "metadata": {},
   "source": [
    "### **問題 2: フィボナッチ数列の生成**"
   ]
  },
  {
   "cell_type": "markdown",
   "metadata": {},
   "source": [
    "- ユーザーから整数 \\( N \\) を入力として受け取り、フィボナッチ数列の最初の \\( N \\) 項をリストとして出力するプログラムを書いてください。\n",
    "\n",
    "**フィボナッチ数列の定義:**\n",
    "- 最初の2項はそれぞれ 0, 1\n",
    "- 3項目以降は直前の2項を足した値\n",
    "\n",
    "**例:**\n",
    "- 入力: \\( N = 7 \\)\n",
    "- 出力: \\([0, 1, 1, 2, 3, 5, 8]\\)\n"
   ]
  },
  {
   "cell_type": "code",
   "execution_count": null,
   "metadata": {},
   "outputs": [],
   "source": [
    "#ここにコードを入力してください\n",
    "\n",
    "\n"
   ]
  },
  {
   "cell_type": "markdown",
   "metadata": {},
   "source": [
    "### **問題 3: 辞書の操作**"
   ]
  },
  {
   "cell_type": "markdown",
   "metadata": {},
   "source": [
    "- 以下のような辞書を作成し、ユーザーからの入力で値を更新するプログラムを書いてください。\n",
    "\n",
    "```python\n",
    "fruit_prices = {\"apple\": 120, \"banana\": 100, \"cherry\": 300}\n",
    "```\n",
    "**操作内容:**\n",
    "1. ユーザーにフルーツの名前を入力させる。\n",
    "2. 入力されたフルーツが辞書に存在すれば、新しい値を入力して値を更新する。\n",
    "3. 存在しない場合は、「フルーツが見つかりません」と表示する。\n"
   ]
  },
  {
   "cell_type": "code",
   "execution_count": null,
   "metadata": {},
   "outputs": [],
   "source": [
    "#ここにコードを入力してください\n",
    "\n",
    "\n"
   ]
  },
  {
   "cell_type": "markdown",
   "metadata": {},
   "source": [
    "### **問題 4: 文字列の統計**"
   ]
  },
  {
   "cell_type": "markdown",
   "metadata": {},
   "source": [
    "- ユーザーが入力した文字列について以下を計算して表示するプログラムを書いてください。\n",
    "\n",
    "1. 小文字の数\n",
    "2. 大文字の数\n",
    "3. 数字の数\n",
    "4. その他の文字の数\n",
    "\n",
    "**例:**\n",
    "- 入力: `Hello123!`\n",
    "- 出力:\n",
    "  ```\n",
    "  小文字: 4\n",
    "  大文字: 1\n",
    "  数字: 3\n",
    "  その他: 1\n",
    "  ```\n",
    "\n",
    "**補足:**\n",
    "  ```\n",
    "  .islower(): 小文字を判定\n",
    "  .isdigit(): 数字を判定\n",
    "  .isalpha(): 英字を判定（大文字・小文字問わず）\n",
    "  ```"
   ]
  },
  {
   "cell_type": "code",
   "execution_count": 2,
   "metadata": {},
   "outputs": [],
   "source": [
    "#ここにコードを入力してください\n"
   ]
  },
  {
   "cell_type": "markdown",
   "metadata": {},
   "source": [
    "### **問題 5: 1122文字列**"
   ]
  },
  {
   "cell_type": "markdown",
   "metadata": {},
   "source": [
    "文字列 T が以下の 3 つの条件をすべてみたすとき、かつそのときに限り、T を 1122 文字列 と呼びます。\n",
    "\n",
    "* $\\ ∣T∣$ は偶数である。ここで、$\\ ∣T∣$ は T の長さを表す。\n",
    "* $\\ 1≤i≤ \\frac{∣T∣}{2}$をみたす整数 i について、T の $\\ (2i−1)$ 文字目と $\\ 2i$ 文字目は等しい。\n",
    "* 各文字は $\\ T$ にちょうど 0 個または 2 個現れる。すなわち、$\\ T$ に含まれる文字は $\\ T$ にちょうど 2 回ずつ登場する。\n",
    "\n",
    "英小文字のみからなる文字列 $\\ S$ が与えられるので、$\\ S$ が 1122 文字列であるならば `Yes` を、そうでないならば `No` を出力してください。\n",
    "\n",
    "**例:**\n",
    "  * 入力: `aabbcc`\n",
    "  * 出力: `Yes`"
   ]
  },
  {
   "cell_type": "code",
   "execution_count": null,
   "metadata": {},
   "outputs": [],
   "source": [
    "# ここにコードを入力してください"
   ]
  },
  {
   "cell_type": "markdown",
   "metadata": {},
   "source": [
    "### **問題 6: 誰がケーキを食べたの？**"
   ]
  },
  {
   "cell_type": "markdown",
   "metadata": {},
   "source": [
    "高橋君のケーキが誰かに食べられてしまいました。ケーキを食べた犯人の候補として、人1、人2、人3 の三人が挙げられています。\n",
    "\n",
    "犯人の目撃者はりんごさんとすぬけくんの二人がいます。  \n",
    "りんごさんは人Aが犯人でないことを覚えており、すぬけくんは人Bが犯人でないことを覚えています。\n",
    "\n",
    "二人の記憶から犯人を一人に特定できるかどうか判定し、特定できるならばその人の番号を出力してください。\n",
    "\n",
    "* 制約: $\\ 1≤A,B≤3$ (入力は全て整数)\n",
    "* 入力: `A B`の形式\n",
    "* 出力: 二人の記憶から犯人を一人に特定できるならばその人の番号を出力し、特定できないならば `-1` を出力せよ。\n",
    "\n",
    "**例:**\n",
    "  * 入力: `1 2`\n",
    "  * 出力: `3`\n",
    "\n",
    "**補足:**\n",
    "  ```\n",
    "  A, B = input().split(): 入力方法\n",
    "  ```"
   ]
  },
  {
   "cell_type": "code",
   "execution_count": null,
   "metadata": {},
   "outputs": [],
   "source": [
    "# ここにコードを入力してください"
   ]
  }
 ],
 "metadata": {
  "kernelspec": {
   "display_name": "3.12.2",
   "language": "python",
   "name": "python3"
  },
  "language_info": {
   "codemirror_mode": {
    "name": "ipython",
    "version": 3
   },
   "file_extension": ".py",
   "mimetype": "text/x-python",
   "name": "python",
   "nbconvert_exporter": "python",
   "pygments_lexer": "ipython3",
   "version": "3.12.2"
  }
 },
 "nbformat": 4,
 "nbformat_minor": 2
}
